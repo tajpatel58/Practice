{
 "cells": [
  {
   "cell_type": "markdown",
   "metadata": {},
   "source": [
    "### Overview of Iterables:"
   ]
  },
  {
   "cell_type": "code",
   "execution_count": 10,
   "metadata": {},
   "outputs": [
    {
     "name": "stdout",
     "output_type": "stream",
     "text": [
      "{1, 2, 3}\n",
      "[1, 2, 3]\n"
     ]
    }
   ],
   "source": [
    "# Iterables is basically something you can loop through, examples include: lists, sets, tuples, dictionaries. \n",
    "\n",
    "my_list = [1, 'hello', 3, 'Chirag', 4, 4.5, 'Radhika', {1,2,3}]\n",
    "my_dictionary = {'Name': ['Taj', 'Chirag'], 'Age': [24,24]}\n",
    "my_set = {1,2,3,3,3}\n",
    "print(my_set)\n",
    "my_list_from_set = list(my_set)\n",
    "print(my_list_from_set)"
   ]
  },
  {
   "cell_type": "code",
   "execution_count": 8,
   "metadata": {},
   "outputs": [
    {
     "name": "stdout",
     "output_type": "stream",
     "text": [
      "[1, 3, 4]\n"
     ]
    }
   ],
   "source": [
    "integers_from_list = []\n",
    "\n",
    "for i in my_list:\n",
    "    if isinstance(i, int):\n",
    "        integers_from_list.append(i)\n",
    "    else:\n",
    "        continue\n",
    "\n",
    "print(integers_from_list)"
   ]
  },
  {
   "cell_type": "code",
   "execution_count": 14,
   "metadata": {},
   "outputs": [
    {
     "name": "stdout",
     "output_type": "stream",
     "text": [
      "{1, 2, 3}\n",
      "{1, 2, 3}\n",
      "{1, 2, 3}\n",
      "[1, 2, 3, 4, 5, 6]\n"
     ]
    }
   ],
   "source": [
    "new_list = [1,2,3]\n",
    "new_list_2 = [4,5,6]\n",
    "\n",
    "b = [1,2,3,3,3]\n",
    "\n",
    "c = set(b)\n",
    "\n",
    "for i in c:\n",
    "    print(c)\n",
    "\n",
    "print(new_list + new_list_2)"
   ]
  },
  {
   "cell_type": "code",
   "execution_count": 21,
   "metadata": {},
   "outputs": [
    {
     "name": "stdout",
     "output_type": "stream",
     "text": [
      "Name : ['Taj', 'Chirag']\n",
      "Age : [24, 24]\n"
     ]
    }
   ],
   "source": [
    "for key,value in my_dictionary.items():\n",
    "    print(f'{key} : {value}')"
   ]
  },
  {
   "cell_type": "code",
   "execution_count": 27,
   "metadata": {},
   "outputs": [
    {
     "name": "stdout",
     "output_type": "stream",
     "text": [
      "[('Name', ['Taj', 'Chirag']), ('Age', [24, 24])]\n",
      "(1, 2, 3, 4, 5, 5)\n"
     ]
    }
   ],
   "source": [
    "items = my_dictionary.items()\n",
    "print(list(items))\n",
    "tuple_2 = (1,2,3,4,5,5)\n",
    "print(tuple_2)"
   ]
  },
  {
   "cell_type": "code",
   "execution_count": 28,
   "metadata": {},
   "outputs": [
    {
     "name": "stdout",
     "output_type": "stream",
     "text": [
      "[1, 2, 3, 4, 5, 6, 7, 234, 234, 635, 125, 3]\n"
     ]
    }
   ],
   "source": [
    "my_list = [1,2,3,4,5,6,7,234,234,635,125,3]\n",
    "\n",
    "print(my_list)"
   ]
  },
  {
   "cell_type": "code",
   "execution_count": 33,
   "metadata": {},
   "outputs": [
    {
     "name": "stdout",
     "output_type": "stream",
     "text": [
      "[1, 2, 3, 4, 5, 10, 7, 234, 234, 635, 125, 3]\n"
     ]
    }
   ],
   "source": [
    "my_list[5] = 10\n",
    "\n",
    "print(my_list)"
   ]
  },
  {
   "cell_type": "code",
   "execution_count": 35,
   "metadata": {},
   "outputs": [
    {
     "ename": "TypeError",
     "evalue": "'tuple' object does not support item assignment",
     "output_type": "error",
     "traceback": [
      "\u001b[0;31m---------------------------------------------------------------------------\u001b[0m",
      "\u001b[0;31mTypeError\u001b[0m                                 Traceback (most recent call last)",
      "\u001b[0;32m/var/folders/bn/m0fctgmn5t753x60khg3_q2m0000gn/T/ipykernel_51675/1606679858.py\u001b[0m in \u001b[0;36m<module>\u001b[0;34m\u001b[0m\n\u001b[0;32m----> 1\u001b[0;31m \u001b[0mtuple_2\u001b[0m\u001b[0;34m[\u001b[0m\u001b[0;36m0\u001b[0m\u001b[0;34m]\u001b[0m \u001b[0;34m=\u001b[0m \u001b[0;36m210\u001b[0m\u001b[0;34m\u001b[0m\u001b[0;34m\u001b[0m\u001b[0m\n\u001b[0m",
      "\u001b[0;31mTypeError\u001b[0m: 'tuple' object does not support item assignment"
     ]
    }
   ],
   "source": [
    "tuple_2[0] = 210"
   ]
  },
  {
   "cell_type": "markdown",
   "metadata": {},
   "source": [
    "### Task 1: Counter of Elements in List:\n",
    "\n",
    "Objective: Write a function that takes in a  list, and returns a dictionary of the unique elements and the corresponding number of occurences."
   ]
  },
  {
   "cell_type": "code",
   "execution_count": 1,
   "metadata": {},
   "outputs": [],
   "source": [
    "test_1 = [1,2,3,3,4,6,6,6,6,7]\n",
    "\n",
    "output_expected = {1: 1, 2: 1, 3: 2, 4: 1, 6: 4, 7:1}"
   ]
  },
  {
   "cell_type": "code",
   "execution_count": null,
   "metadata": {},
   "outputs": [],
   "source": [
    "def counter(x : list) -> dict:\n",
    "    unique_vals = set(x)\n",
    "\n",
    "    # unique_vals for test: {1,2,3,4,6,7}\n",
    "\n",
    "    output_dict = {val : 0 for val in unique_vals}\n",
    "\n",
    "    # Loop through the list, for each value, update the dictionary counter. \n",
    "    for number in x:\n",
    "        if number in output_dict.keys():\n",
    "            output_dict[number]  = output_dict[number] + 1\n",
    "        else:\n",
    "            output_dict[number] = 1\n",
    "\n",
    "    "
   ]
  },
  {
   "cell_type": "code",
   "execution_count": 10,
   "metadata": {},
   "outputs": [
    {
     "name": "stdout",
     "output_type": "stream",
     "text": [
      "{1: 0, 2: 0, 3: 0}\n"
     ]
    }
   ],
   "source": [
    "unique_vals = {1,2,3}\n",
    "\n",
    "output_dict = {val : 0 for val in unique_vals}\n",
    "\n",
    "print(output_dict)"
   ]
  },
  {
   "cell_type": "markdown",
   "metadata": {},
   "source": [
    "List/Dictionary Comprehensions "
   ]
  },
  {
   "cell_type": "code",
   "execution_count": 12,
   "metadata": {},
   "outputs": [
    {
     "data": {
      "text/plain": [
       "[1, 4, 9]"
      ]
     },
     "execution_count": 12,
     "metadata": {},
     "output_type": "execute_result"
    }
   ],
   "source": [
    "a = [1,2,3]\n",
    "\n",
    "# Create a new list of squares: \n",
    "# eg: [1,4,9]\n",
    "\n",
    "def square_list(x):\n",
    "    output = []\n",
    "    for i in x:\n",
    "        y = i*i\n",
    "        output.append(y)\n",
    "    return output\n",
    "\n",
    "square_list(a)"
   ]
  },
  {
   "cell_type": "code",
   "execution_count": 14,
   "metadata": {},
   "outputs": [
    {
     "name": "stdout",
     "output_type": "stream",
     "text": [
      "[1, 4, 9]\n"
     ]
    }
   ],
   "source": [
    "output_2 = [i*i for i in a]\n",
    "print(output_2)"
   ]
  }
 ],
 "metadata": {
  "kernelspec": {
   "display_name": "Python 3.9.5 ('base')",
   "language": "python",
   "name": "python3"
  },
  "language_info": {
   "codemirror_mode": {
    "name": "ipython",
    "version": 3
   },
   "file_extension": ".py",
   "mimetype": "text/x-python",
   "name": "python",
   "nbconvert_exporter": "python",
   "pygments_lexer": "ipython3",
   "version": "3.9.5"
  },
  "orig_nbformat": 4,
  "vscode": {
   "interpreter": {
    "hash": "742eda1bdf1e218a3bb2b4bc9aaa5c450f2dcf1623d3e127dc8dee9e2156d7e1"
   }
  }
 },
 "nbformat": 4,
 "nbformat_minor": 2
}
